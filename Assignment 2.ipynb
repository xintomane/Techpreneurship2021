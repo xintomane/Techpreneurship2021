{
 "cells": [
  {
   "cell_type": "markdown",
   "id": "f418fd4b",
   "metadata": {
    "id": "f418fd4b"
   },
   "source": [
    "<img src=\"images/logo.jpeg\">"
   ]
  },
  {
   "cell_type": "markdown",
   "id": "8ee6d2eb",
   "metadata": {
    "id": "8ee6d2eb"
   },
   "source": [
    "# Assignment 2: The Machine Learning Process\n",
    "\n",
    "This assignment tests your theoretical knowledge of the machine learning process.\n"
   ]
  },
  {
   "cell_type": "markdown",
   "id": "4806a0bc",
   "metadata": {
    "id": "4806a0bc"
   },
   "source": [
    "## 1.) Explain when you should, or shouldn't, apply machine learning to your application. [5 marks]"
   ]
  },
  {
   "cell_type": "markdown",
   "id": "a706e561",
   "metadata": {
    "id": "a706e561"
   },
   "source": [
    "-Machine learning should only be used if the prediction/decision that must be made is complex enough to warrant machine learning.\n",
    "-If a useful pattern can be found from the dataset then machine learning can be used.\n",
    "-The patten in the dataset must also generalize and should be relevant beyond a one particular pattern\n",
    "-If modeling you're trying to build doesn't require a large data set then machine learning is not necessary\n",
    "-You shouldn't use machine learning if you don't have any data\n",
    "\n"
   ]
  },
  {
   "cell_type": "markdown",
   "id": "140aa9a2",
   "metadata": {
    "id": "140aa9a2"
   },
   "source": [
    "## 2.) What do you think is the most important part of the machine learning pipeline? Explain your answer. [5 marks]"
   ]
  },
  {
   "cell_type": "markdown",
   "id": "80c58602",
   "metadata": {
    "id": "80c58602"
   },
   "source": [
    "The most important part of the machine learning pipeline is the data preperation/wrangling stage.Data preparation ensures that the data is accurate and leads to accurate derived data insights.It also ensures confidence in the data insights and ensures that the data is reliable and suitable to use. Without data preparation, the data insights may be off because of noisy data,outliers or errors.\n"
   ]
  },
  {
   "cell_type": "markdown",
   "id": "362240f7",
   "metadata": {
    "id": "362240f7"
   },
   "source": [
    "## 3.) An online shopping website approaches you to integrate machine learning into their company. They would like to increase revenue by encouraging their customers to buy more products. Suggest a particular use-case to the company, and explain how you would apply each step of the machine learning process to your use-case. [20 marks]"
   ]
  },
  {
   "cell_type": "markdown",
   "id": "f0217f42",
   "metadata": {
    "id": "f0217f42"
   },
   "source": [
    "An algorithm that adapts the content on the website to the preferences of each customer. Factors such as: activity history, preferred style,colour and contents in the wishlist/cart would be taken into account. Addionally, popular products bought by other customers who have similar style preference to the current customer can be suggested.If an item is out of stock, customers can request to be notified if the item is back in stock.An alert can also be sent to the customer to notify them if an item in their wishlish is back in stock. This will help persuade customers to buy more products and increase customer engagement.\n",
    "\n",
    "1. Problem formulation\n",
    "-How to increase customer engagement and encourage cutomers to purchase more products?\n",
    "\n",
    "2. Data collection and integration\n",
    "-Upon entering the website a new customer could fill out a short form detailing their style preference etc. \n",
    "-The number of out of stock items that are frequently requested\n",
    "-Ranked list of popular products that are out of stock items in wish lists\n",
    "-List of customers who'd like to be notified\n",
    "\n",
    "3.Data preparation and wrangling\n",
    "-sort product notification list by most popular product\n",
    "-sort frequently requested out of stock items by highest number of occurances \n",
    "-have a 'suggested for you' list based on customer preferences\n",
    "\n",
    "4.Data visualisation and analysis\n",
    "-calculate the number of customers who have similar preferances and have bought similar products\n",
    "-calculate the number of customers who'd like to be notified of a restock of the same product\n",
    "\n",
    "5. Feature engineering\n",
    "-identify customers who abandon their carts ,who buy in small quantities or don't buy their wishlish item after being notified of a restock\n",
    "\n",
    "6. Model training and tuning \n",
    "-Train data until the model can be refined using the validation dataset\n",
    "7.Model evaluation\n",
    "-Check whether the model identifies customers who who buy in small quantities or who do not buy their wishlish product after being notifiied\n",
    "\n",
    "8.Communicating model's results\n",
    "-Interpret and present the results of the ML to the stakeholders\n",
    "\n",
    "9.Model deployment\n",
    "-Deploy the model \n",
    "\n",
    "10.Monitoring models\n",
    "-Check that the model is working properly\n",
    "-Ensure that the model is collected the correct data\n"
   ]
  }
 ],
 "metadata": {
  "colab": {
   "name": "Assignment 2.ipynb",
   "provenance": []
  },
  "kernelspec": {
   "display_name": "Python 3",
   "language": "python",
   "name": "python3"
  },
  "language_info": {
   "codemirror_mode": {
    "name": "ipython",
    "version": 3
   },
   "file_extension": ".py",
   "mimetype": "text/x-python",
   "name": "python",
   "nbconvert_exporter": "python",
   "pygments_lexer": "ipython3",
   "version": "3.8.3"
  }
 },
 "nbformat": 4,
 "nbformat_minor": 5
}
