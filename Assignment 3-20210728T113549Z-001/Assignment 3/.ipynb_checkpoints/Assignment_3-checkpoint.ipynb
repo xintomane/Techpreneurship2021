{
 "cells": [
  {
   "cell_type": "markdown",
   "metadata": {
    "id": "PHY4yAMF5XJl"
   },
   "source": [
    "![LL%20&%20SU.jpg](attachment:LL%20&%20SU.jpg)"
   ]
  },
  {
   "cell_type": "markdown",
   "metadata": {
    "id": "cEu01L18SdeO"
   },
   "source": [
    "# Assignment \\#2: Importing Data (Part 1)\n",
    "\n"
   ]
  },
  {
   "cell_type": "markdown",
   "metadata": {
    "id": "IZ0JfnQVWgoh"
   },
   "source": [
    "## File reading with only standard libraries (do not use numpy or pandas) \n",
    "Complete the missing code in the following cells and execute it.\n",
    "\n",
    "### Function ReadFile\n",
    "Take in a filename and return the file object.\n",
    " \n",
    "### Function Tokenizer\n",
    "Take in a file line, seperate the data values into tokens and return them in a list.\n",
    "\n",
    "### Main Loop\n",
    "Read the data from the csv file into the empty data arrays.\n"
   ]
  },
  {
   "cell_type": "code",
   "execution_count": 113,
   "metadata": {
    "id": "_IB0QlOnSemN"
   },
   "outputs": [],
   "source": [
    "# Functions:\n",
    "import csv\n",
    "def ReadFile (filename):\n",
    "    \n",
    "    \n",
    "    file  = open(filename)\n",
    "    \n",
    "    return file\n",
    "\n",
    "\n",
    "def Tokenizer (line):\n",
    "    tokens = []\n",
    "\n",
    "    # insert code here to tokenize a given line and return the tokens in a list\n",
    "    #for l in line:\n",
    "    values = line.strip().split(\",\")\n",
    "    #print(values)\n",
    "    tokens.append(values)\n",
    "    #print(tokens)\n",
    "        \n",
    "    return tokens\n",
    "\n",
    "# read file\n",
    "filename = \"src/iris.csv\"\n",
    "file = ReadFile( filename )\n",
    "#print(file.read())\n",
    "#print(next(file))\n",
    "\n",
    "# initialise data arrays for each column\n",
    "Sepal_Length = []\n",
    "Sepal_Width = []\n",
    "Petal_Length = []\n",
    "Petal_Width = []\n",
    "Class = []\n",
    "\n",
    "# skip over file headings\n",
    "file.readline()\n",
    "#print(file.read())\n",
    "\n",
    "for line in file:\n",
    "    #print(line)\n",
    "    tokens = Tokenizer (line)\n",
    "    #print(line)\n",
    "    #print(tokens[0])\n",
    "    Sepal_Length.append(float(tokens[0][0]))\n",
    "    Sepal_Width.append(float(tokens[0][1]))\n",
    "    Petal_Length.append(float(tokens[0][2]))\n",
    "    Petal_Width.append(float(tokens[0][3]))\n",
    "    Class.append(tokens[0][4])\n",
    "    #print(Sepal_Length)\n",
    "\n",
    "    # insert code here to read tokens into data arrays\n",
    "\n",
    "# close file\n",
    "file.close()"
   ]
  },
  {
   "cell_type": "markdown",
   "metadata": {
    "id": "NXkgLKt5ZJFB"
   },
   "source": [
    "## Create a Pandas Dataframe from the data\n",
    "Next, from the data we read in in the previous cell, we will now construct a dataframe. Remember to execute the previous cell before proceeding. \n",
    "\n",
    "Complete the following functions in the cell below and execute it.\n",
    "\n",
    "### Function CreateDictionary\n",
    "Creates a single dictionary containing the data.\n",
    "\n",
    "### Function CreateDF\n",
    "Create a pandas dataframe from a dictionary.\n",
    "\n",
    "Hint: what dtype will the dataframe consist of?"
   ]
  },
  {
   "cell_type": "code",
   "execution_count": 114,
   "metadata": {
    "id": "8ZCG2dfFVFC1"
   },
   "outputs": [],
   "source": [
    "# Imports\n",
    "import pandas as pd\n",
    "\n",
    "# Functions\n",
    "\n",
    "def CreateDictionary (Sepal_Length, Sepal_Width , Petal_Length, Petal_Width , Class):\n",
    "\n",
    "    # insert code here  \n",
    "    dict = {}\n",
    "    \n",
    "    dict['Sepal_Length'] = Sepal_Length\n",
    "    dict['Sepal_Width'] = Sepal_Width\n",
    "    dict['Petal_Length'] = Petal_Length\n",
    "    dict['Petal_Width'] = Petal_Width\n",
    "    dict['Class'] = Class\n",
    "\n",
    "    return dict\n",
    "\n",
    "def CreateDF (dict):\n",
    "\n",
    "    # insert code here  \n",
    "    df = pd.DataFrame(dict)\n",
    "\n",
    "    return df\n",
    "\n",
    "# Execute functions and display results\n",
    "\n",
    "data = CreateDictionary(Sepal_Length, Sepal_Width, Petal_Length, Petal_Width, Class)\n",
    "iris_df = CreateDF(data)"
   ]
  },
  {
   "cell_type": "markdown",
   "metadata": {
    "id": "0AH6Yxi4zPlc"
   },
   "source": [
    "## Display the first 5 rows of the dataframe"
   ]
  },
  {
   "cell_type": "code",
   "execution_count": 107,
   "metadata": {
    "id": "p5t-zER3zPab"
   },
   "outputs": [
    {
     "name": "stdout",
     "output_type": "stream",
     "text": [
      "   Sepal_Length  Sepal_Width  Petal_Length  Petal_Width        Class\n",
      "0           5.1          3.5           1.4          0.2  Iris-setosa\n",
      "1           4.9          3.0           1.4          0.2  Iris-setosa\n",
      "2           4.7          3.2           1.3          0.2  Iris-setosa\n",
      "3           4.6          3.1           1.5          0.2  Iris-setosa\n",
      "4           5.0          3.6           1.4          0.2  Iris-setosa\n"
     ]
    }
   ],
   "source": [
    "# insert code here\n",
    "print(iris_df.head(5))"
   ]
  },
  {
   "cell_type": "markdown",
   "metadata": {
    "id": "T6XBTsyYzaFh"
   },
   "source": [
    "## Display the last 5 rows of the dataframe"
   ]
  },
  {
   "cell_type": "code",
   "execution_count": 108,
   "metadata": {
    "id": "caf7UhKnzaX7"
   },
   "outputs": [
    {
     "name": "stdout",
     "output_type": "stream",
     "text": [
      "     Sepal_Length  Sepal_Width  Petal_Length  Petal_Width           Class\n",
      "145           6.7          3.0           5.2          2.3  Iris-virginica\n",
      "146           6.3          2.5           5.0          1.9  Iris-virginica\n",
      "147           6.5          3.0           5.2          2.0  Iris-virginica\n",
      "148           6.2          3.4           5.4          2.3  Iris-virginica\n",
      "149           5.9          3.0           5.1          1.8  Iris-virginica\n"
     ]
    }
   ],
   "source": [
    "# insert code here\n",
    "print(iris_df.tail(5))"
   ]
  },
  {
   "cell_type": "markdown",
   "metadata": {
    "id": "0ACUL9knzfle"
   },
   "source": [
    "## Display the minimum and maximimum values for Petal Length"
   ]
  },
  {
   "cell_type": "code",
   "execution_count": 109,
   "metadata": {
    "id": "epN0hGLYzeyj"
   },
   "outputs": [
    {
     "name": "stdout",
     "output_type": "stream",
     "text": [
      "6.9\n",
      "1.0\n"
     ]
    }
   ],
   "source": [
    "# insert code here\n",
    "column = iris_df['Petal_Length']\n",
    "max_val = column.max()\n",
    "min_val = column.min()\n",
    "print(max_val)\n",
    "print(min_val)"
   ]
  },
  {
   "cell_type": "markdown",
   "metadata": {
    "id": "aMsurlThzmqv"
   },
   "source": [
    "## Display the minimum and maximum values for Sepal Width where Class = Iris-setosa"
   ]
  },
  {
   "cell_type": "code",
   "execution_count": 111,
   "metadata": {
    "id": "f2JavpGszm-X"
   },
   "outputs": [
    {
     "name": "stdout",
     "output_type": "stream",
     "text": [
      "4.4\n",
      "2.3\n"
     ]
    }
   ],
   "source": [
    "# insert code here\n",
    "column = iris_df.loc[iris_df['Class']=='Iris-setosa',\"Sepal_Width\"]\n",
    "max_val = column.max()\n",
    "min_val = column.min()\n",
    "print(max_val)\n",
    "print(min_val)"
   ]
  },
  {
   "cell_type": "markdown",
   "metadata": {
    "id": "Lw2Yl3XBhk5l"
   },
   "source": [
    "## Complete the following functions to perform the indicated dataframe operations:\n",
    "\n",
    "The code below can be executed seperately from that used above. The function, pd.read_csv, is the built in function used by pandas to perform the equivalent of the code above.\n",
    " \n",
    "### Function 1:\n",
    "The function adds two new columns to the dataframe containing the following information per dataframe entry:\n",
    "\n",
    "Column 1: Sepal surface area = Sepal Length x Sepal Width\n",
    "\n",
    "Column 2: Petal surface area = Petal Length x Petal Width\n",
    "\n",
    " ### Function 2:\n",
    "The function must calculate the mean value for each column (including the additional surface area columns) for each of the three given classes (Setosa, Versicolor and Virginica)\n",
    "\n",
    "The mean values must be stored in a new dataframe containing three entries, one for each class\n"
   ]
  },
  {
   "cell_type": "code",
   "execution_count": 123,
   "metadata": {
    "id": "8Ic-tdbVhlKE"
   },
   "outputs": [
    {
     "data": {
      "text/html": [
       "<div>\n",
       "<style scoped>\n",
       "    .dataframe tbody tr th:only-of-type {\n",
       "        vertical-align: middle;\n",
       "    }\n",
       "\n",
       "    .dataframe tbody tr th {\n",
       "        vertical-align: top;\n",
       "    }\n",
       "\n",
       "    .dataframe thead th {\n",
       "        text-align: right;\n",
       "    }\n",
       "</style>\n",
       "<table border=\"1\" class=\"dataframe\">\n",
       "  <thead>\n",
       "    <tr style=\"text-align: right;\">\n",
       "      <th></th>\n",
       "      <th>Sepal_Length</th>\n",
       "      <th>Sepal_Width</th>\n",
       "      <th>Petal_Length</th>\n",
       "      <th>Petal_Width</th>\n",
       "      <th>Sepal_surface_area</th>\n",
       "      <th>Petal_surface_area</th>\n",
       "    </tr>\n",
       "    <tr>\n",
       "      <th>Class</th>\n",
       "      <th></th>\n",
       "      <th></th>\n",
       "      <th></th>\n",
       "      <th></th>\n",
       "      <th></th>\n",
       "      <th></th>\n",
       "    </tr>\n",
       "  </thead>\n",
       "  <tbody>\n",
       "    <tr>\n",
       "      <th>Iris-setosa</th>\n",
       "      <td>5.006</td>\n",
       "      <td>3.418</td>\n",
       "      <td>1.464</td>\n",
       "      <td>0.244</td>\n",
       "      <td>17.2088</td>\n",
       "      <td>0.3628</td>\n",
       "    </tr>\n",
       "    <tr>\n",
       "      <th>Iris-versicolor</th>\n",
       "      <td>5.936</td>\n",
       "      <td>2.770</td>\n",
       "      <td>4.260</td>\n",
       "      <td>1.326</td>\n",
       "      <td>16.5262</td>\n",
       "      <td>5.7204</td>\n",
       "    </tr>\n",
       "    <tr>\n",
       "      <th>Iris-virginica</th>\n",
       "      <td>6.588</td>\n",
       "      <td>2.974</td>\n",
       "      <td>5.552</td>\n",
       "      <td>2.026</td>\n",
       "      <td>19.6846</td>\n",
       "      <td>11.2962</td>\n",
       "    </tr>\n",
       "  </tbody>\n",
       "</table>\n",
       "</div>"
      ],
      "text/plain": [
       "                 Sepal_Length  Sepal_Width  Petal_Length  Petal_Width  \\\n",
       "Class                                                                   \n",
       "Iris-setosa             5.006        3.418         1.464        0.244   \n",
       "Iris-versicolor         5.936        2.770         4.260        1.326   \n",
       "Iris-virginica          6.588        2.974         5.552        2.026   \n",
       "\n",
       "                 Sepal_surface_area  Petal_surface_area  \n",
       "Class                                                    \n",
       "Iris-setosa                 17.2088              0.3628  \n",
       "Iris-versicolor             16.5262              5.7204  \n",
       "Iris-virginica              19.6846             11.2962  "
      ]
     },
     "execution_count": 123,
     "metadata": {},
     "output_type": "execute_result"
    }
   ],
   "source": [
    "# Functions\n",
    "\n",
    "def AddSurfaceArea(df):\n",
    "\n",
    "    #insert code here\n",
    "    df[\"Sepal_surface_area\"] = df[\"Sepal_Length\"] * df[\"Sepal_Width\"]\n",
    "    df[\"Petal_surface_area\"] = df[\"Petal_Length\"] * df[\"Petal_Width\"]\n",
    "    return df\n",
    "\n",
    "def GetMeanPerClass(df):\n",
    "\n",
    "    # insert code here\n",
    "    mean_df = iris_df.groupby(\"Class\").mean()\n",
    "\n",
    "    return mean_df\n",
    "\n",
    "# read in the data \n",
    "iris_df = pd.read_csv('src/iris.csv')\n",
    "\n",
    "# Execute functions and print the results\n",
    "iris_df = AddSurfaceArea(iris_df)\n",
    "mean_df = GetMeanPerClass(iris_df)\n",
    "\n",
    "\n",
    "mean_df"
   ]
  },
  {
   "cell_type": "code",
   "execution_count": null,
   "metadata": {
    "colab": {
     "base_uri": "https://localhost:8080/",
     "height": 146
    },
    "id": "XVA5kPLOo_zh",
    "outputId": "9233ca38-a1bc-4111-9b29-d99c71889408"
   },
   "outputs": [
    {
     "data": {
      "image/png": "[encoded data removed]",
      "text/plain": [
       "<IPython.core.display.Image object>"
      ]
     },
     "metadata": {
      "tags": []
     },
     "output_type": "display_data"
    }
   ],
   "source": [
    "from IPython.display import display\n",
    "from IPython.display import Image\n",
    "from IPython.display import HTML\n",
    "\n",
    "display(Image(filename='src/ex.png'))"
   ]
  }
 ],
 "metadata": {
  "colab": {
   "collapsed_sections": [],
   "name": "Assignment_3.ipynb",
   "provenance": [],
   "toc_visible": true
  },
  "kernelspec": {
   "display_name": "Python 3",
   "language": "python",
   "name": "python3"
  },
  "language_info": {
   "codemirror_mode": {
    "name": "ipython",
    "version": 3
   },
   "file_extension": ".py",
   "mimetype": "text/x-python",
   "name": "python",
   "nbconvert_exporter": "python",
   "pygments_lexer": "ipython3",
   "version": "3.8.3"
  }
 },
 "nbformat": 4,
 "nbformat_minor": 1
}
