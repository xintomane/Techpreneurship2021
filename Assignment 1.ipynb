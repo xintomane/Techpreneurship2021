{
 "cells": [
  {
   "cell_type": "markdown",
   "id": "f418fd4b",
   "metadata": {
    "id": "f418fd4b"
   },
   "source": [
    "<img src=\"images/logo.jpeg\">"
   ]
  },
  {
   "cell_type": "markdown",
   "id": "8ee6d2eb",
   "metadata": {
    "id": "8ee6d2eb"
   },
   "source": [
    "# Assignment 1: Introduction to Python\n",
    "\n",
    "This assignment tests the Python skills you have learnt in the per-course Datacamp lectures.\n",
    "\n",
    "Notes:\n",
    "- You should not hardcode a solution to any of the questions below. Doing so will result in a mark of 0 for the question."
   ]
  },
  {
   "cell_type": "code",
   "execution_count": 51,
   "id": "1d7a821b",
   "metadata": {
    "executionInfo": {
     "elapsed": 380,
     "status": "ok",
     "timestamp": 1627319689914,
     "user": {
      "displayName": "Randy Cunningham",
      "photoUrl": "",
      "userId": "09251566176394972880"
     },
     "user_tz": -120
    },
    "id": "1d7a821b"
   },
   "outputs": [],
   "source": [
    "import numpy as np\n",
    "import matplotlib.pyplot as plt\n",
    "import collections"
   ]
  },
  {
   "cell_type": "markdown",
   "id": "a10dfcf0",
   "metadata": {
    "id": "a10dfcf0"
   },
   "source": [
    "## Collections, NumPy and Matplotlib"
   ]
  },
  {
   "cell_type": "markdown",
   "id": "e4336869",
   "metadata": {
    "id": "e4336869"
   },
   "source": [
    "Answer the next few questions using the list created in the following code block:"
   ]
  },
  {
   "cell_type": "code",
   "execution_count": 52,
   "id": "c60e00fa",
   "metadata": {
    "colab": {
     "base_uri": "https://localhost:8080/"
    },
    "executionInfo": {
     "elapsed": 380,
     "status": "ok",
     "timestamp": 1627319160689,
     "user": {
      "displayName": "Randy Cunningham",
      "photoUrl": "",
      "userId": "09251566176394972880"
     },
     "user_tz": -120
    },
    "id": "c60e00fa",
    "outputId": "a12d549d-60a8-4832-d6ec-c7b5b2ae59e4"
   },
   "outputs": [
    {
     "data": {
      "text/plain": [
       "[-3, 7, 9, 5, 4, -2, 7, 2, -5, 6, -3, 8, -4, -5, 4, 1, 2, 0, 6, 0]"
      ]
     },
     "execution_count": 52,
     "metadata": {},
     "output_type": "execute_result"
    }
   ],
   "source": [
    "my_list = list(np.random.randint(low=-5, high=10, size=20))\n",
    "my_list"
   ]
  },
  {
   "cell_type": "markdown",
   "id": "0ab18ad9",
   "metadata": {
    "id": "0ab18ad9"
   },
   "source": [
    "1.) Display the given list in reverse order. [1 point]"
   ]
  },
  {
   "cell_type": "code",
   "execution_count": 53,
   "id": "7f9320c3",
   "metadata": {
    "colab": {
     "base_uri": "https://localhost:8080/"
    },
    "executionInfo": {
     "elapsed": 639,
     "status": "ok",
     "timestamp": 1627319184765,
     "user": {
      "displayName": "Randy Cunningham",
      "photoUrl": "",
      "userId": "09251566176394972880"
     },
     "user_tz": -120
    },
    "id": "7f9320c3",
    "outputId": "d4accf9e-f74c-4ce3-a50e-d7aa57394c64"
   },
   "outputs": [
    {
     "name": "stdout",
     "output_type": "stream",
     "text": [
      "[0, 6, 0, 2, 1, 4, -5, -4, 8, -3, 6, -5, 2, 7, -2, 4, 5, 9, 7, -3]\n"
     ]
    }
   ],
   "source": [
    "# insert code here\n",
    "reversed_list = my_list[::-1]\n",
    "print(reversed_list)"
   ]
  },
  {
   "cell_type": "markdown",
   "id": "17ae7f2a",
   "metadata": {
    "id": "17ae7f2a"
   },
   "source": [
    "2.) Square every element in the list [1 point]"
   ]
  },
  {
   "cell_type": "code",
   "execution_count": 54,
   "id": "ed25f99f",
   "metadata": {
    "colab": {
     "base_uri": "https://localhost:8080/"
    },
    "executionInfo": {
     "elapsed": 382,
     "status": "ok",
     "timestamp": 1627319306513,
     "user": {
      "displayName": "Randy Cunningham",
      "photoUrl": "",
      "userId": "09251566176394972880"
     },
     "user_tz": -120
    },
    "id": "ed25f99f",
    "outputId": "ca342132-df95-472d-90de-444b031674de"
   },
   "outputs": [
    {
     "name": "stdout",
     "output_type": "stream",
     "text": [
      "[9, 49, 81, 25, 16, 4, 49, 4, 25, 36, 9, 64, 16, 25, 16, 1, 4, 0, 36, 0]\n"
     ]
    }
   ],
   "source": [
    "# insert code here\n",
    "squared_list = list(np.array(my_list) ** 2)\n",
    "print(squared_list)"
   ]
  },
  {
   "cell_type": "markdown",
   "id": "c3b62768",
   "metadata": {
    "id": "c3b62768"
   },
   "source": [
    "3.) Remove all of the negatigve values from the list [1 point]"
   ]
  },
  {
   "cell_type": "code",
   "execution_count": 55,
   "id": "379fdec1",
   "metadata": {
    "colab": {
     "base_uri": "https://localhost:8080/"
    },
    "executionInfo": {
     "elapsed": 999,
     "status": "ok",
     "timestamp": 1627319435844,
     "user": {
      "displayName": "Randy Cunningham",
      "photoUrl": "",
      "userId": "09251566176394972880"
     },
     "user_tz": -120
    },
    "id": "379fdec1",
    "outputId": "7594b112-984a-4cd5-926f-23e92da78974"
   },
   "outputs": [
    {
     "name": "stdout",
     "output_type": "stream",
     "text": [
      "[7, 9, 5, 4, 7, 2, 6, 8, 4, 1, 2, 0, 6, 0]\n"
     ]
    }
   ],
   "source": [
    "# insert code here\n",
    "positives = []\n",
    "for i in my_list:\n",
    "  if i >= 0:\n",
    "    positives.append(i)\n",
    "\n",
    "print(positives)"
   ]
  },
  {
   "cell_type": "markdown",
   "id": "47db780b",
   "metadata": {
    "id": "47db780b"
   },
   "source": [
    "4.) Find the index of the largest element in the list [1 point]"
   ]
  },
  {
   "cell_type": "code",
   "execution_count": 56,
   "id": "5d0ee689",
   "metadata": {
    "colab": {
     "base_uri": "https://localhost:8080/"
    },
    "executionInfo": {
     "elapsed": 581,
     "status": "ok",
     "timestamp": 1627319602473,
     "user": {
      "displayName": "Randy Cunningham",
      "photoUrl": "",
      "userId": "09251566176394972880"
     },
     "user_tz": -120
    },
    "id": "5d0ee689",
    "outputId": "72b5b8b6-0f79-4db7-e64b-e5ee217582c5"
   },
   "outputs": [
    {
     "name": "stdout",
     "output_type": "stream",
     "text": [
      "2\n"
     ]
    }
   ],
   "source": [
    "# insert code here\n",
    "max_number = max(my_list)\n",
    "max_index = my_list.index(max_number)\n",
    "print(max_index)"
   ]
  },
  {
   "cell_type": "markdown",
   "id": "2e5f9f6c",
   "metadata": {
    "id": "2e5f9f6c"
   },
   "source": [
    "5.) Print out the number of occurrences of each of the element in the list, using the following format: [1 point]\n",
    "\n",
    "\"x occurs y times in the list\""
   ]
  },
  {
   "cell_type": "code",
   "execution_count": 164,
   "id": "8ae3a70b",
   "metadata": {
    "colab": {
     "base_uri": "https://localhost:8080/"
    },
    "executionInfo": {
     "elapsed": 462,
     "status": "ok",
     "timestamp": 1627319801494,
     "user": {
      "displayName": "Randy Cunningham",
      "photoUrl": "",
      "userId": "09251566176394972880"
     },
     "user_tz": -120
    },
    "id": "8ae3a70b",
    "outputId": "8c7cbc8b-2ee4-4455-d64c-85ea5140c5f7"
   },
   "outputs": [
    {
     "name": "stdout",
     "output_type": "stream",
     "text": [
      "Counter({-3: 2, 7: 2, 4: 2, 2: 2, -5: 2, 6: 2, 0: 2, 9: 1, 5: 1, -2: 1, 8: 1, -4: 1, 1: 1})\n"
     ]
    }
   ],
   "source": [
    "# insert code here\n",
    "occurences = collections.Counter(my_list)\n",
    "print(occurences)\n"
   ]
  },
  {
   "cell_type": "markdown",
   "id": "5a6cb54b",
   "metadata": {
    "id": "5a6cb54b"
   },
   "source": [
    "Use the following data for the next few questions:"
   ]
  },
  {
   "cell_type": "code",
   "execution_count": 69,
   "id": "d1a7d64b",
   "metadata": {
    "id": "d1a7d64b"
   },
   "outputs": [],
   "source": [
    "names = [\"Northern Cape\", \"Eastern Cape\", \"Western Cape\"]\n",
    "areas = [372889, 168966, 129462]\n",
    "provinces = {'Free State': 129825, 'Limpopo': 125755, 'North West': 104882, 'KwaZulu-Natal': 94361, 'Mpumalanga': 76495, 'Gauteng': 18178}"
   ]
  },
  {
   "cell_type": "markdown",
   "id": "cf1a8343",
   "metadata": {
    "id": "cf1a8343"
   },
   "source": [
    "xx.) Create a dictionary, `cape`, of the the Cape province names and their corresponding areas [1 point]"
   ]
  },
  {
   "cell_type": "code",
   "execution_count": 105,
   "id": "70da5d42",
   "metadata": {
    "id": "70da5d42",
    "outputId": "898a1109-5d5d-4858-dc47-c8507c05506a"
   },
   "outputs": [
    {
     "name": "stdout",
     "output_type": "stream",
     "text": [
      "{'Northern Cape': 372889, 'Eastern Cape': 168966, 'Western Cape': 129462}\n"
     ]
    }
   ],
   "source": [
    "cape = {'Northern Cape': 372889,'Eastern Cape': 168966,'Western Cape': 129462}\n",
    "print(cape)"
   ]
  },
  {
   "cell_type": "markdown",
   "id": "bc81509e",
   "metadata": {
    "id": "bc81509e"
   },
   "source": [
    "xx.) Update the `provinces` dictionary to include the `cape` data using an appropriate built-in dictionary function [1 point]"
   ]
  },
  {
   "cell_type": "code",
   "execution_count": 106,
   "id": "7ee5256d",
   "metadata": {
    "id": "7ee5256d",
    "outputId": "ca31da35-655b-42a5-cb7b-c1e316a85b71",
    "scrolled": true
   },
   "outputs": [
    {
     "name": "stdout",
     "output_type": "stream",
     "text": [
      "{'Free State': 129825, 'Limpopo': 125755, 'North West': 104882, 'KwaZulu-Natal': 94361, 'Mpumalanga': 76495, 'Gauteng': 18178, 'Northern Cape': 372889, 'Eastern Cape': 168966, 'Western Cape': 129462}\n"
     ]
    }
   ],
   "source": [
    "provinces = dict(provinces,**cape)\n",
    "print(provinces)"
   ]
  },
  {
   "cell_type": "markdown",
   "id": "5e56def4",
   "metadata": {
    "id": "5e56def4"
   },
   "source": [
    "xx.) Print out the sum of the areas of all of the provinces [1 point]"
   ]
  },
  {
   "cell_type": "code",
   "execution_count": 107,
   "id": "37225db9",
   "metadata": {
    "id": "37225db9",
    "outputId": "a15cf954-2f0c-4cc3-a25d-ace7b5f57779"
   },
   "outputs": [
    {
     "name": "stdout",
     "output_type": "stream",
     "text": [
      "1220813\n"
     ]
    }
   ],
   "source": [
    "# Insert code here\n",
    "areas = provinces.values()\n",
    "total_area = sum(areas)\n",
    "print(total_area)"
   ]
  },
  {
   "cell_type": "markdown",
   "id": "0ad53225",
   "metadata": {
    "id": "0ad53225"
   },
   "source": [
    "xx.) Display the provinces and their corresponding areas in alphabetical order [1 point]"
   ]
  },
  {
   "cell_type": "code",
   "execution_count": 73,
   "id": "5836046f",
   "metadata": {
    "id": "5836046f",
    "outputId": "dea2c3df-2569-4a05-b3cd-7e13fc29c40e"
   },
   "outputs": [
    {
     "name": "stdout",
     "output_type": "stream",
     "text": [
      "Eastern Cape  :  168966\n",
      "Free State  :  129825\n",
      "Gauteng  :  18178\n",
      "KwaZulu-Natal  :  94361\n",
      "Limpopo  :  125755\n",
      "Mpumalanga  :  76495\n",
      "North West  :  104882\n",
      "Northern Cape  :  372889\n",
      "Western Cape  :  129462\n"
     ]
    }
   ],
   "source": [
    "# Insert code here\n",
    "for key in sorted(provinces.keys()) :\n",
    "    print(key , \" : \" , provinces[key])"
   ]
  },
  {
   "cell_type": "markdown",
   "id": "1551d2c4",
   "metadata": {
    "id": "1551d2c4"
   },
   "source": [
    "Using `matplotlib`, plot a barplot of the sizes of the provinces. \n",
    "\n",
    "The sizes should be on the y-axis, and the province names on the x-axis. Specify an appropriate title, add an x- and y-label, and rotate the x-axis labels.\n",
    "[5 points]"
   ]
  },
  {
   "cell_type": "code",
   "execution_count": 79,
   "id": "ffc09aaf",
   "metadata": {
    "id": "ffc09aaf",
    "outputId": "a903be2d-db59-4df0-e271-c28091f84345"
   },
   "outputs": [
    {
     "data": {
      "image/png": "[encoded data removed]",
      "text/plain": [
       "<Figure size 432x288 with 1 Axes>"
      ]
     },
     "metadata": {
      "needs_background": "light"
     },
     "output_type": "display_data"
    },
    {
     "data": {
      "text/plain": [
       "<Figure size 432x288 with 0 Axes>"
      ]
     },
     "metadata": {},
     "output_type": "display_data"
    }
   ],
   "source": [
    "# insert code here\n",
    "plt.bar(provinces.keys(),provinces.values())\n",
    "plt.xticks(rotation=45) \n",
    "plt.xlabel('Provinces')\n",
    "plt.ylabel('Area')\n",
    "plt.title('Provinces')\n",
    "plt.show()\n",
    "plt.clf()"
   ]
  },
  {
   "cell_type": "markdown",
   "id": "783e9e4a",
   "metadata": {
    "id": "783e9e4a"
   },
   "source": [
    "Use the following matrices and vectors for the next few questions:"
   ]
  },
  {
   "cell_type": "code",
   "execution_count": 80,
   "id": "1a4fff67",
   "metadata": {
    "id": "1a4fff67",
    "outputId": "696f9e5d-f9e8-4352-9e4d-6e99e72e5f49"
   },
   "outputs": [
    {
     "name": "stdout",
     "output_type": "stream",
     "text": [
      "A = \n",
      "[[7 5 6]\n",
      " [7 7 8]\n",
      " [0 7 3]]\n",
      "\n",
      "B = \n",
      "[[6 7 8]\n",
      " [5 7 1]\n",
      " [9 7 9]]\n",
      "\n",
      "vec1 = \n",
      "[5 0 1]\n",
      "\n",
      "vec2 = \n",
      "[1 2 4]\n",
      "\n"
     ]
    }
   ],
   "source": [
    "A = np.random.randint(low=0, high=10, size=(3, 3))\n",
    "B = np.random.randint(low=0, high=10, size=(3, 3))\n",
    "vec1 = np.random.randint(low=0, high=10, size=3)\n",
    "vec2 = np.random.randint(low=0, high=10, size=3)\n",
    "print(f\"A = \\n{A}\\n\")\n",
    "print(f\"B = \\n{B}\\n\")\n",
    "print(f\"vec1 = \\n{vec1}\\n\")\n",
    "print(f\"vec2 = \\n{vec2}\\n\")"
   ]
  },
  {
   "cell_type": "markdown",
   "id": "2d0dab86",
   "metadata": {
    "id": "2d0dab86"
   },
   "source": [
    "xx.) Find the average of the entries in `vec1` and print the result. [1 point]"
   ]
  },
  {
   "cell_type": "code",
   "execution_count": 108,
   "id": "51498b75",
   "metadata": {
    "id": "51498b75",
    "outputId": "bac7ee10-9775-4f60-f08b-79e30ca2b518"
   },
   "outputs": [
    {
     "name": "stdout",
     "output_type": "stream",
     "text": [
      "2.0\n"
     ]
    }
   ],
   "source": [
    "# Insert code\n",
    "print(np.mean(vec1))"
   ]
  },
  {
   "cell_type": "markdown",
   "id": "1c428caf",
   "metadata": {
    "id": "1c428caf"
   },
   "source": [
    "xx.) Find the element-wise difference between `vec1` and `vec2`, and print the result. [1 point]"
   ]
  },
  {
   "cell_type": "code",
   "execution_count": 109,
   "id": "bd444228",
   "metadata": {
    "id": "bd444228",
    "outputId": "f44e6f30-8b90-4674-839a-e155c4d90939"
   },
   "outputs": [
    {
     "name": "stdout",
     "output_type": "stream",
     "text": [
      "[ 4 -2 -3]\n"
     ]
    }
   ],
   "source": [
    "# insert code here\n",
    "print(np.subtract(vec1,vec2))"
   ]
  },
  {
   "cell_type": "markdown",
   "id": "5aefe8a3",
   "metadata": {
    "id": "5aefe8a3"
   },
   "source": [
    "xx.) Find the Euclidean distance between `vec1` and `vec2`. [1 point]"
   ]
  },
  {
   "cell_type": "code",
   "execution_count": 110,
   "id": "10da946e",
   "metadata": {
    "id": "10da946e",
    "outputId": "d3381306-62b3-4c0e-f415-06ffd191427b"
   },
   "outputs": [
    {
     "name": "stdout",
     "output_type": "stream",
     "text": [
      "5.385164807134504\n"
     ]
    }
   ],
   "source": [
    "# insert code here\n",
    "print(np.linalg.norm(vec1 - vec2))"
   ]
  },
  {
   "cell_type": "markdown",
   "id": "a06c9624",
   "metadata": {
    "id": "a06c9624"
   },
   "source": [
    "xx.) Find the cosine distance between `vec1` and `vec2`. [1 point]"
   ]
  },
  {
   "cell_type": "code",
   "execution_count": 87,
   "id": "f52594f3",
   "metadata": {
    "id": "f52594f3",
    "outputId": "49795fe8-25e5-43e5-aaff-86e30874ce19"
   },
   "outputs": [],
   "source": [
    "# insert code here\n"
   ]
  },
  {
   "cell_type": "markdown",
   "id": "82065fb5",
   "metadata": {
    "id": "82065fb5"
   },
   "source": [
    "xx.) Scale (multiply) all the entries of `vec1` by its mean, and print the result. [1 point]"
   ]
  },
  {
   "cell_type": "code",
   "execution_count": 111,
   "id": "9b9f7282",
   "metadata": {
    "id": "9b9f7282",
    "outputId": "660ad265-a555-459c-b6a9-7611e6017902"
   },
   "outputs": [
    {
     "name": "stdout",
     "output_type": "stream",
     "text": [
      "[10.  0.  2.]\n"
     ]
    }
   ],
   "source": [
    "# insert code here\n",
    "mean = np.mean(vec1)\n",
    "result = vec1 * mean\n",
    "print(result)"
   ]
  },
  {
   "cell_type": "markdown",
   "id": "7e6f54e3",
   "metadata": {
    "id": "7e6f54e3"
   },
   "source": [
    "xx.) Normalize `vec1` and print the result. [1 point]"
   ]
  },
  {
   "cell_type": "code",
   "execution_count": 112,
   "id": "dea0652c",
   "metadata": {
    "id": "dea0652c",
    "outputId": "89eb54be-5ae2-49c0-bfbf-60325d3c1c18"
   },
   "outputs": [
    {
     "name": "stdout",
     "output_type": "stream",
     "text": [
      "[0.98058068 0.         0.19611614]\n"
     ]
    }
   ],
   "source": [
    "# insert code here\n",
    "norm= np.linalg.norm(vec1)\n",
    "norm_vec1 = vec1/norm\n",
    "print(norm_vec1)"
   ]
  },
  {
   "cell_type": "markdown",
   "id": "97a25158",
   "metadata": {
    "id": "97a25158"
   },
   "source": [
    "xx.) Find the matrix product of `A` and `B` [1 point]"
   ]
  },
  {
   "cell_type": "code",
   "execution_count": 113,
   "id": "264eb044",
   "metadata": {
    "id": "264eb044",
    "outputId": "625b5465-945b-4d2e-ff13-7ae6466252d1"
   },
   "outputs": [
    {
     "data": {
      "text/plain": [
       "array([[121, 126, 115],\n",
       "       [149, 154, 135],\n",
       "       [ 62,  70,  34]])"
      ]
     },
     "execution_count": 113,
     "metadata": {},
     "output_type": "execute_result"
    }
   ],
   "source": [
    "# insert code here\n",
    "\n",
    "np.dot(A,B)\n"
   ]
  },
  {
   "cell_type": "markdown",
   "id": "4cea4664",
   "metadata": {
    "id": "4cea4664"
   },
   "source": [
    "xx.) Given the matrix, `A`, subtract the column mean of `A` from each entry. This has the effect of zero-centering the data and is often done in algorithms such as principal components analysis or when running computer vision models. [1 point]"
   ]
  },
  {
   "cell_type": "code",
   "execution_count": 114,
   "id": "5ebea32e",
   "metadata": {
    "id": "5ebea32e",
    "outputId": "0b22c41d-5cea-47da-a924-c02e5ea4272c"
   },
   "outputs": [
    {
     "name": "stdout",
     "output_type": "stream",
     "text": [
      "[[ 1.44444444 -0.55555556  0.44444444]\n",
      " [ 1.44444444  1.44444444  2.44444444]\n",
      " [-5.55555556  1.44444444 -2.55555556]]\n"
     ]
    }
   ],
   "source": [
    "# Insert cdoe\n",
    "mean_A = np.mean(A)\n",
    "A_centered = A - mean_A\n",
    "print(A_centered)\n"
   ]
  },
  {
   "cell_type": "markdown",
   "id": "8c053408",
   "metadata": {
    "id": "8c053408"
   },
   "source": [
    "xx.) Given a vector `vec1`, compute the softmax scores of the vector. [1 point]\n"
   ]
  },
  {
   "cell_type": "code",
   "execution_count": 99,
   "id": "063ae0dd",
   "metadata": {
    "id": "063ae0dd",
    "outputId": "e1dec2cc-4089-4728-ad95-5a9ec5378a75"
   },
   "outputs": [
    {
     "name": "stdout",
     "output_type": "stream",
     "text": [
      "[0.97555875 0.00657326 0.01786798]\n"
     ]
    }
   ],
   "source": [
    "# Insert code\n",
    "from scipy.special import softmax\n",
    "s_max = softmax(vec1)\n",
    "print(s_max)\n"
   ]
  },
  {
   "cell_type": "markdown",
   "id": "98ee1dcd",
   "metadata": {
    "id": "98ee1dcd"
   },
   "source": [
    "# Functions"
   ]
  },
  {
   "cell_type": "markdown",
   "id": "b43b4159",
   "metadata": {
    "id": "b43b4159"
   },
   "source": [
    "Write a function named `sign`, which returns a string `positive`, `negative`, or `zero`, given an interger value as input to the function [3 points]."
   ]
  },
  {
   "cell_type": "code",
   "execution_count": 101,
   "id": "7b747f52",
   "metadata": {
    "id": "7b747f52",
    "outputId": "87e3df04-9a0a-438a-fd8d-7cf1e7d65d64"
   },
   "outputs": [
    {
     "name": "stdout",
     "output_type": "stream",
     "text": [
      "negative\n",
      "zero\n",
      "positive\n"
     ]
    }
   ],
   "source": [
    "# insert code here\n",
    "def sign(num) :\n",
    "    if (num > 0):\n",
    "        value = 'positive'\n",
    "    elif(num < 0):\n",
    "        value = 'negative'\n",
    "    else:\n",
    "        value = 'zero'\n",
    "    return value    \n",
    "    \n",
    "\n",
    "# Test\n",
    "for x in [-1, 0, 1]:\n",
    "  print(sign(x))"
   ]
  },
  {
   "cell_type": "markdown",
   "id": "727e2c36",
   "metadata": {
    "id": "727e2c36"
   },
   "source": [
    "Write a fuction that returns the minimum value given an arbitrary number of integers as input paramters. [4 points]"
   ]
  },
  {
   "cell_type": "code",
   "execution_count": 103,
   "id": "b5f6df18",
   "metadata": {
    "id": "b5f6df18",
    "outputId": "e1e87c31-7e41-421f-b237-12afb7ee8d3d"
   },
   "outputs": [
    {
     "name": "stdout",
     "output_type": "stream",
     "text": [
      "2\n",
      "-10\n"
     ]
    }
   ],
   "source": [
    "# Insert function \n",
    "def my_min(*numbers):\n",
    "    minimum = 0\n",
    "    for num in numbers:\n",
    "        minimum = min(numbers) \n",
    "    return minimum    \n",
    "\n",
    "# Test\n",
    "print(my_min(4, 5, 6, 7, 2)) # returns 2\n",
    "print(my_min(-10, 5, 3, -4, 1, 10, 3, 6)) # returns -10"
   ]
  },
  {
   "cell_type": "markdown",
   "id": "66ab2aa5",
   "metadata": {
    "id": "66ab2aa5"
   },
   "source": [
    "Write a recursive function to display the Fibonacci sequence using recursion. \n",
    "\n",
    "The first two terms are 0 and 1. All other terms are obtained by adding the preceding two terms i.e. the n-th term is the sum of (n-1)-th and (n-2)-th term. [4 points]"
   ]
  },
  {
   "cell_type": "code",
   "execution_count": 115,
   "id": "4f40f09a",
   "metadata": {
    "id": "4f40f09a",
    "outputId": "23dbe7f9-c78f-4a98-8817-66652407a62b"
   },
   "outputs": [
    {
     "name": "stdout",
     "output_type": "stream",
     "text": [
      "0\n",
      "1\n",
      "1\n",
      "2\n",
      "3\n",
      "5\n",
      "8\n",
      "13\n",
      "21\n",
      "34\n"
     ]
    }
   ],
   "source": [
    "# Insert code here\n",
    "def recur_fibo(n):\n",
    "    if n == 0:\n",
    "        return 0\n",
    "    elif n == 1 or n ==2:\n",
    "        return 1\n",
    "    else:\n",
    "        return recur_fibo(n-1) + recur_fibo(n-2)\n",
    "# Test\n",
    "for i in range(10):\n",
    "  print(recur_fibo(i))"
   ]
  },
  {
   "cell_type": "markdown",
   "id": "16c05ca7",
   "metadata": {
    "id": "16c05ca7"
   },
   "source": [
    "# Classes\n",
    "\n"
   ]
  },
  {
   "cell_type": "markdown",
   "id": "70e4faad",
   "metadata": {
    "id": "70e4faad"
   },
   "source": [
    "Create a class called `Circle`.\n",
    "You are required to implement the following:\n",
    "* The constructor of the class should take two floats that specify the `x` and `y` coordinates of the circle, a float specifying the `radius` of the circle. [2 points]\n",
    "* A function, `str_circle`, which prints properties of a circle as follow: [2 points]\n",
    "            Circle at location x = ___ and y = ___ with radius = ___\n",
    "* A function, `dist`, which returns the euclidean distance between two circles' centers. [4 points]\n",
    "* A function,`overlap`, which returns `True` if two circles overlap and `False` otherwise. [3 points]\n",
    "* A function, `area`, which calculates the area of the circle. [3 point].\n",
    "* A function, `overlap_area`, which calculates the area of the overlapping portion of two circles. [6 points]\n",
    "\n",
    "The formula for calculating the overlapping area between two circles is provided below:\n",
    "\n",
    "\\begin{equation}\n",
    "\\small\n",
    "A = \n",
    "r^2\\text{cos}^{-1}(\\frac{d^2+r^2-R^2}{2dr}) + R^2\\text{cos}^{-1}(\\frac{d^2+R^2-r^2}{2dR}) -\n",
    "\\frac{1}{2}\\sqrt{(-d+r+R)(d+r-R)(d-r+R)(d+r+R)}\n",
    "\\end{equation}\n",
    "\n",
    "where\n",
    "\n",
    "$\\;\\;\\;\\;\\;\\;\\;\\;$A = area of overlapping <br>\n",
    "$\\;\\;\\;\\;\\;\\;\\;\\;$r = radius of circle 1 <br>\n",
    "$\\;\\;\\;\\;\\;\\;\\;\\;$R = radius of circle 2 <br>\n",
    "$\\;\\;\\;\\;\\;\\;\\;\\;$d = distance between the circles <br>"
   ]
  },
  {
   "cell_type": "code",
   "execution_count": 153,
   "id": "ccf753ff",
   "metadata": {
    "id": "ccf753ff"
   },
   "outputs": [],
   "source": [
    "import math\n",
    "\n",
    "# Insert class here:\n",
    "class Circle:\n",
    "    # Insert constructor code\n",
    "    x = 0.0\n",
    "    y = 0.0\n",
    "    radius = 0.0\n",
    "    \n",
    "    def __init__(self,x,y,radius):\n",
    "        self.x = x\n",
    "        self.y = y\n",
    "        self.radius = radius\n",
    "    \n",
    "    def str_circle(self):\n",
    "        # Insert code\n",
    "        print(\"Circle at location x =\"+str(self.x)+ \"and y =\"+str(self.y)+ \"with radius =\"+ str(self.radius))\n",
    "\n",
    "    def dist(self, other):\n",
    "        # Insert code\n",
    "        dist = math.sqrt((self.x - other.x) ** 2 + (self.y - other.y) ** 2)\n",
    "        return dist\n",
    "\n",
    "    def overlap(self, other):\n",
    "        # Insert code\n",
    "        diff = abs(self.radius-other.radius)\n",
    "        sum_rad = self.radius + other.radius\n",
    "        sqrt = math.sqrt((self.x - other.x) ** 2 + (self.y - other.y) ** 2)\n",
    "        if (sqrt<= diff and sqrt <= sum_rad):\n",
    "            print(\"True\")\n",
    "        else:\n",
    "            print(\"False\")\n",
    "            \n",
    "            \n",
    "\n",
    "    def area(self):\n",
    "        # Insert code\n",
    "        A = math.pi * (self.radius*self.radius)\n",
    "        return A\n",
    "\n",
    "    def overlap_area(self, other):\n",
    "        # Insert code\n",
    "        dist = math.sqrt((self.x - other.x) ** 2 + (self.y - other.y) ** 2)\n",
    "        angle1 = (dist**2 + self.radius**2 - other.radius**2)/(2*dist*self.radius)\n",
    "        angle2 = (dist**2 + other.radius**2 - self.radius**2)/(2*dist*other.radius)\n",
    "        root = abs((-dist+self.radius+other.radius)*(dist+self.radius-other.radius)*(dist-self.radius+other.radius)*(dist+self.radius+other.radius))\n",
    "        A = (self.radius**2)*math.acos(angle1) + (other.radius**2)*math.acos(angle2) - 0.5*math.sqrt(root)\n",
    "        return A"
   ]
  },
  {
   "cell_type": "markdown",
   "id": "05c9b5fe",
   "metadata": {
    "id": "05c9b5fe"
   },
   "source": [
    "The next few snippets of code can be used to verify that your implementation of the functions of `Circle` is working correctly."
   ]
  },
  {
   "cell_type": "markdown",
   "id": "3e8f980d",
   "metadata": {
    "id": "3e8f980d"
   },
   "source": [
    "Create the following two circles: [1 point]\n",
    "* `circle1`: x = 2, y = 1, rad = 1\n",
    "* `circle2`: x = -1, y = -2, rad = 3 "
   ]
  },
  {
   "cell_type": "code",
   "execution_count": 117,
   "id": "b9bcea1f",
   "metadata": {
    "id": "b9bcea1f"
   },
   "outputs": [],
   "source": [
    "# insert code\n",
    "circle1 = Circle(2,1,1)\n",
    "circle2 = Circle(-1,-2,3)"
   ]
  },
  {
   "cell_type": "markdown",
   "id": "554dd45e",
   "metadata": {
    "id": "554dd45e"
   },
   "source": [
    "Print out the circles using `str_circle`"
   ]
  },
  {
   "cell_type": "code",
   "execution_count": 120,
   "id": "2ec37716",
   "metadata": {
    "id": "2ec37716",
    "outputId": "9188c2a7-c363-4db9-f05e-5aec1d74f1c3"
   },
   "outputs": [
    {
     "name": "stdout",
     "output_type": "stream",
     "text": [
      "Circle at location x =2and y =1with radius =1\n"
     ]
    }
   ],
   "source": [
    "# insert code\n",
    "circle1.str_circle()"
   ]
  },
  {
   "cell_type": "markdown",
   "id": "e2482d8f",
   "metadata": {
    "id": "e2482d8f"
   },
   "source": [
    "Print the distance between circle 1 and 2."
   ]
  },
  {
   "cell_type": "code",
   "execution_count": 122,
   "id": "3c3ccede",
   "metadata": {
    "id": "3c3ccede",
    "outputId": "37ef33f4-b250-4883-b570-f2d3c76129c2"
   },
   "outputs": [
    {
     "name": "stdout",
     "output_type": "stream",
     "text": [
      "4.242640687119285\n"
     ]
    }
   ],
   "source": [
    "# call dist( ) here and print out the result\n",
    "# insert code\n",
    "dist = Circle.dist(circle1,circle2)\n",
    "print(dist)"
   ]
  },
  {
   "cell_type": "markdown",
   "id": "f281a556",
   "metadata": {
    "id": "f281a556"
   },
   "source": [
    "Check if `circle1` and `circle2` overlap."
   ]
  },
  {
   "cell_type": "code",
   "execution_count": 125,
   "id": "30f9d496",
   "metadata": {
    "id": "30f9d496",
    "outputId": "c22b3635-6a10-4564-9346-48b1d8b8cc36"
   },
   "outputs": [
    {
     "name": "stdout",
     "output_type": "stream",
     "text": [
      "False\n"
     ]
    }
   ],
   "source": [
    "# insert code\n",
    "Circle.overlap(circle1,circle2)"
   ]
  },
  {
   "cell_type": "markdown",
   "id": "3dc4df14",
   "metadata": {
    "id": "3dc4df14"
   },
   "source": [
    "Print out the area of `circle1` and `circle2`."
   ]
  },
  {
   "cell_type": "code",
   "execution_count": 154,
   "id": "d4c08125",
   "metadata": {
    "id": "d4c08125",
    "outputId": "0c05ca63-8202-4540-e3b4-da21224bb153"
   },
   "outputs": [
    {
     "name": "stdout",
     "output_type": "stream",
     "text": [
      "None\n",
      "None\n"
     ]
    }
   ],
   "source": [
    "# insert code\n",
    "print(circle1.area())\n",
    "print(circle2.area())\n"
   ]
  },
  {
   "cell_type": "markdown",
   "id": "e56f4d2e",
   "metadata": {
    "id": "e56f4d2e"
   },
   "source": [
    "Print out the overlapping area of `circle1` and `circle2`. "
   ]
  },
  {
   "cell_type": "code",
   "execution_count": 143,
   "id": "784b25af",
   "metadata": {
    "id": "784b25af",
    "outputId": "cf3f4718-89f9-446a-8d3a-8968c04925d8"
   },
   "outputs": [
    {
     "ename": "ValueError",
     "evalue": "math domain error",
     "output_type": "error",
     "traceback": [
      "\u001b[1;31m---------------------------------------------------------------------------\u001b[0m",
      "\u001b[1;31mValueError\u001b[0m                                Traceback (most recent call last)",
      "\u001b[1;32m<ipython-input-143-735a90112fbb>\u001b[0m in \u001b[0;36m<module>\u001b[1;34m\u001b[0m\n\u001b[0;32m      1\u001b[0m \u001b[1;31m# insert code\u001b[0m\u001b[1;33m\u001b[0m\u001b[1;33m\u001b[0m\u001b[1;33m\u001b[0m\u001b[0m\n\u001b[1;32m----> 2\u001b[1;33m \u001b[0mCircle\u001b[0m\u001b[1;33m.\u001b[0m\u001b[0moverlap_area\u001b[0m\u001b[1;33m(\u001b[0m\u001b[0mcircle1\u001b[0m\u001b[1;33m,\u001b[0m\u001b[0mcircle2\u001b[0m\u001b[1;33m)\u001b[0m\u001b[1;33m\u001b[0m\u001b[1;33m\u001b[0m\u001b[0m\n\u001b[0m\u001b[0;32m      3\u001b[0m \u001b[0mprint\u001b[0m\u001b[1;33m(\u001b[0m\u001b[1;34m\"Overlapping area: %.2f\"\u001b[0m \u001b[1;33m%\u001b[0m \u001b[0moverlap_area\u001b[0m\u001b[1;33m)\u001b[0m\u001b[1;33m\u001b[0m\u001b[1;33m\u001b[0m\u001b[0m\n",
      "\u001b[1;32m<ipython-input-142-026f112514f7>\u001b[0m in \u001b[0;36moverlap_area\u001b[1;34m(self, other)\u001b[0m\n\u001b[0;32m     44\u001b[0m         \u001b[0mangle2\u001b[0m \u001b[1;33m=\u001b[0m \u001b[1;33m(\u001b[0m\u001b[0mdist\u001b[0m\u001b[1;33m**\u001b[0m\u001b[1;36m2\u001b[0m \u001b[1;33m+\u001b[0m \u001b[0mother\u001b[0m\u001b[1;33m.\u001b[0m\u001b[0mradius\u001b[0m\u001b[1;33m**\u001b[0m\u001b[1;36m2\u001b[0m \u001b[1;33m-\u001b[0m \u001b[0mself\u001b[0m\u001b[1;33m.\u001b[0m\u001b[0mradius\u001b[0m\u001b[1;33m**\u001b[0m\u001b[1;36m2\u001b[0m\u001b[1;33m)\u001b[0m\u001b[1;33m/\u001b[0m\u001b[1;33m(\u001b[0m\u001b[1;36m2\u001b[0m\u001b[1;33m*\u001b[0m\u001b[0mdist\u001b[0m\u001b[1;33m*\u001b[0m\u001b[0mother\u001b[0m\u001b[1;33m.\u001b[0m\u001b[0mradius\u001b[0m\u001b[1;33m)\u001b[0m\u001b[1;33m\u001b[0m\u001b[1;33m\u001b[0m\u001b[0m\n\u001b[0;32m     45\u001b[0m         \u001b[0mroot\u001b[0m \u001b[1;33m=\u001b[0m \u001b[0mabs\u001b[0m\u001b[1;33m(\u001b[0m\u001b[1;33m(\u001b[0m\u001b[1;33m-\u001b[0m\u001b[0mdist\u001b[0m\u001b[1;33m+\u001b[0m\u001b[0mself\u001b[0m\u001b[1;33m.\u001b[0m\u001b[0mradius\u001b[0m\u001b[1;33m+\u001b[0m\u001b[0mother\u001b[0m\u001b[1;33m.\u001b[0m\u001b[0mradius\u001b[0m\u001b[1;33m)\u001b[0m\u001b[1;33m*\u001b[0m\u001b[1;33m(\u001b[0m\u001b[0mdist\u001b[0m\u001b[1;33m+\u001b[0m\u001b[0mself\u001b[0m\u001b[1;33m.\u001b[0m\u001b[0mradius\u001b[0m\u001b[1;33m-\u001b[0m\u001b[0mother\u001b[0m\u001b[1;33m.\u001b[0m\u001b[0mradius\u001b[0m\u001b[1;33m)\u001b[0m\u001b[1;33m*\u001b[0m\u001b[1;33m(\u001b[0m\u001b[0mdist\u001b[0m\u001b[1;33m-\u001b[0m\u001b[0mself\u001b[0m\u001b[1;33m.\u001b[0m\u001b[0mradius\u001b[0m\u001b[1;33m+\u001b[0m\u001b[0mother\u001b[0m\u001b[1;33m.\u001b[0m\u001b[0mradius\u001b[0m\u001b[1;33m)\u001b[0m\u001b[1;33m*\u001b[0m\u001b[1;33m(\u001b[0m\u001b[0mdist\u001b[0m\u001b[1;33m+\u001b[0m\u001b[0mself\u001b[0m\u001b[1;33m.\u001b[0m\u001b[0mradius\u001b[0m\u001b[1;33m+\u001b[0m\u001b[0mother\u001b[0m\u001b[1;33m.\u001b[0m\u001b[0mradius\u001b[0m\u001b[1;33m)\u001b[0m\u001b[1;33m)\u001b[0m\u001b[1;33m\u001b[0m\u001b[1;33m\u001b[0m\u001b[0m\n\u001b[1;32m---> 46\u001b[1;33m         \u001b[0mA\u001b[0m \u001b[1;33m=\u001b[0m \u001b[1;33m(\u001b[0m\u001b[0mself\u001b[0m\u001b[1;33m.\u001b[0m\u001b[0mradius\u001b[0m\u001b[1;33m**\u001b[0m\u001b[1;36m2\u001b[0m\u001b[1;33m)\u001b[0m\u001b[1;33m*\u001b[0m\u001b[0mmath\u001b[0m\u001b[1;33m.\u001b[0m\u001b[0macos\u001b[0m\u001b[1;33m(\u001b[0m\u001b[0mangle1\u001b[0m\u001b[1;33m)\u001b[0m \u001b[1;33m+\u001b[0m \u001b[1;33m(\u001b[0m\u001b[0mother\u001b[0m\u001b[1;33m.\u001b[0m\u001b[0mradius\u001b[0m\u001b[1;33m**\u001b[0m\u001b[1;36m2\u001b[0m\u001b[1;33m)\u001b[0m\u001b[1;33m*\u001b[0m\u001b[0mmath\u001b[0m\u001b[1;33m.\u001b[0m\u001b[0macos\u001b[0m\u001b[1;33m(\u001b[0m\u001b[0mangle2\u001b[0m\u001b[1;33m)\u001b[0m \u001b[1;33m-\u001b[0m \u001b[1;36m0.5\u001b[0m\u001b[1;33m*\u001b[0m\u001b[0mmath\u001b[0m\u001b[1;33m.\u001b[0m\u001b[0msqrt\u001b[0m\u001b[1;33m(\u001b[0m\u001b[0mroot\u001b[0m\u001b[1;33m)\u001b[0m\u001b[1;33m\u001b[0m\u001b[1;33m\u001b[0m\u001b[0m\n\u001b[0m",
      "\u001b[1;31mValueError\u001b[0m: math domain error"
     ]
    }
   ],
   "source": [
    "# insert code\n",
    "Circle.overlap_area(circle1,circle2)\n",
    "print(\"Overlapping area: %.2f\" % overlap_area)"
   ]
  },
  {
   "cell_type": "code",
   "execution_count": null,
   "id": "aggressive-reaction",
   "metadata": {},
   "outputs": [],
   "source": []
  }
 ],
 "metadata": {
  "colab": {
   "name": "Assignment 1.ipynb",
   "provenance": []
  },
  "kernelspec": {
   "display_name": "Python 3",
   "language": "python",
   "name": "python3"
  },
  "language_info": {
   "codemirror_mode": {
    "name": "ipython",
    "version": 3
   },
   "file_extension": ".py",
   "mimetype": "text/x-python",
   "name": "python",
   "nbconvert_exporter": "python",
   "pygments_lexer": "ipython3",
   "version": "3.8.3"
  }
 },
 "nbformat": 4,
 "nbformat_minor": 5
}
